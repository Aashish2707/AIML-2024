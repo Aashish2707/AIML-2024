{
  "nbformat": 4,
  "nbformat_minor": 0,
  "metadata": {
    "colab": {
      "provenance": []
    },
    "kernelspec": {
      "name": "python3",
      "display_name": "Python 3"
    },
    "language_info": {
      "name": "python"
    }
  },
  "cells": [
    {
      "cell_type": "markdown",
      "source": [
        "Implement the MiniMax Search Algorithm"
      ],
      "metadata": {
        "id": "hInRbr3j3v1z"
      }
    },
    {
      "cell_type": "code",
      "source": [
        "import math\n",
        "\n",
        "def minimax(curDepth, nodeIndex, maxTurn, scores, targetDepth):\n",
        "    if curDepth == targetDepth:\n",
        "        return scores[nodeIndex]\n",
        "\n",
        "    if maxTurn:\n",
        "        return max(minimax(curDepth + 1, nodeIndex * 2, False, scores, targetDepth),\n",
        "                   minimax(curDepth + 1, nodeIndex * 2 + 1, False, scores, targetDepth))\n",
        "\n",
        "    else:\n",
        "        return min(minimax(curDepth + 1, nodeIndex * 2, True, scores, targetDepth),\n",
        "                   minimax(curDepth + 1, nodeIndex * 2 + 1, True, scores, targetDepth))\n",
        "\n",
        "scores = [12, 10, 36, 25]\n",
        "\n",
        "treeDepth = math.log2(len(scores))\n",
        "\n",
        "max_value = minimax(0, 0, True, scores, treeDepth)\n",
        "min_value = minimax(0, 0, False, scores, treeDepth)\n",
        "\n",
        "print(\"The Max value is:\", max_value)\n",
        "print(\"The Min value is:\", min_value)"
      ],
      "metadata": {
        "id": "QtJIbK3_4BFf",
        "colab": {
          "base_uri": "https://localhost:8080/"
        },
        "outputId": "97f4fa26-2dd4-4d0e-bbae-aca142fd1535"
      },
      "execution_count": 1,
      "outputs": [
        {
          "output_type": "stream",
          "name": "stdout",
          "text": [
            "The Max value is: 25\n",
            "The Min value is: 12\n"
          ]
        }
      ]
    }
  ]
}